{
 "cells": [
  {
   "cell_type": "markdown",
   "metadata": {},
   "source": [
    "<a name=\"introduction\"></a>\n",
    "## Intro to Big Data\n",
    "\n",
    "Big data is the term we use when the data exceeds the processing capacity of typical databases and machines. We need to use alternate methods of big data analytics when the data grows quickly and we need to uncover hidden patterns, unknown correlations, and other useful information that machine learning often provides. There are three main features in big data (the 3 \"V\"s if you will):\n",
    "- **Volume**: Large amounts of data\n",
    "- **Variety**: Different types of structured, unstructured, and multi-structured data\n",
    "- **Velocity**: Needs to be analyzed quickly\n",
    "\n",
    "Sinan's 4th V (unofficial big data tenet):\n",
    "- **Value**: It's important to assess the value of our data and models and how they provide business/practical value.  Understanding the costs vs benefits of different approaches to problems becomes even more essential in the context of big data.  It's easy to misundersatnd the 3 V's without looking at the bigger picture, connecting the value of the business cases involved.\n",
    "\n",
    "![3v](images/3vbigdata.png)"
   ]
  },
  {
   "cell_type": "markdown",
   "metadata": {},
   "source": [
    "\n"
   ]
  },
  {
   "cell_type": "markdown",
   "metadata": {},
   "source": [
    "### Divide and Conquer\n",
    "\n",
    "<img src=\"https://snag.gy/xh2mJA.jpg\">\n",
    "\n",
    "Divide and conquer strategy is a fundamental algorithmic technique for solving a given task, whose steps include:\n",
    "\n",
    "1. split task into subtasks\n",
    "- solve these subtasks independently\n",
    "- recombine the subtask results into a final result\n",
    "\n",
    "The defining characteristic of a problem that is suitable for the divide and conquer approach is that it can be broken down into independent subtasks."
   ]
  },
  {
   "cell_type": "markdown",
   "metadata": {},
   "source": [
    "# Example\n",
    "\n",
    "<img src=\"images/1.png\">"
   ]
  },
  {
   "cell_type": "markdown",
   "metadata": {},
   "source": [
    "<img src=\"images/2.png\">"
   ]
  },
  {
   "cell_type": "code",
   "execution_count": 242,
   "metadata": {
    "collapsed": false
   },
   "outputs": [],
   "source": [
    "# Mapper for a word count\n",
    "from operator import itemgetter\n",
    "\n",
    "def map_reduce_count_words(texts):\n",
    "    counter = []                                                             # keep track of the reduction\n",
    "    word_single_counts = []                                                  # keep track of the mapping\n",
    "    for line in texts:                                                       # for each sentence\n",
    "        line = line.strip()\n",
    "        words = line.split()                                                 # tokenize sentences by words\n",
    "        for word in words:\n",
    "            word_single_counts.append((word, 1))                             # create (word, 1) tuples for each word\n",
    "        word_single_counts = sorted(word_single_counts, key=lambda x: x[0])  # add to our mapping list\n",
    "\n",
    "    current_word = None\n",
    "    current_count = 0\n",
    "    word = None\n",
    "\n",
    "    for word, count in word_single_counts:                                   # this step would be parallelized\n",
    "        if current_word == word:                                             # we are adding up the single counts\n",
    "            current_count += count\n",
    "        else:\n",
    "            if current_word:\n",
    "                counter.append((current_word, current_count))\n",
    "            current_count = count\n",
    "            current_word = word\n",
    "\n",
    "    # do not forget to output the last word if needed!\n",
    "    if current_word == word:\n",
    "        counter.append((current_word, current_count))\n",
    "    return counter"
   ]
  },
  {
   "cell_type": "code",
   "execution_count": 247,
   "metadata": {
    "collapsed": false
   },
   "outputs": [
    {
     "data": {
      "text/plain": [
       "[('are', 2), ('hello', 3), ('hi', 3), ('how', 1), ('you', 2)]"
      ]
     },
     "execution_count": 247,
     "metadata": {},
     "output_type": "execute_result"
    }
   ],
   "source": [
    "# Example: Word Count\n",
    "\n",
    "map_reduce_count_words(['hello', \"hi hello\", \"hi how are you\", \"hello you are hi\"])"
   ]
  },
  {
   "cell_type": "code",
   "execution_count": null,
   "metadata": {
    "collapsed": true
   },
   "outputs": [],
   "source": [
    "# Let's grab a decent volume at a decent velocity of job descriptions in NYC\n",
    "# Let's then look at the vocabulary used by companies to see what they are really looking for!"
   ]
  },
  {
   "cell_type": "code",
   "execution_count": 298,
   "metadata": {
    "collapsed": false
   },
   "outputs": [
    {
     "name": "stdout",
     "output_type": "stream",
     "text": [
      "0 10 20 30 40 50 60 70 80 90 100 110 120 130 140 150 160 170 180 190 200 210 220 230 240 250 260 270 280 290 300 310 320 330 340 350 360 370 380 390 400 410 420 430 440 450 460 470 480 490 500 510 520 530 540 550 560 570 580 590 600 610 620 630 640 650 660 670 680 690 700 710 720 730 740 750 760 770 780 790 800 810 820 830 840 850 860 870 880 890 900 910 920 930 940 950 960 970 980 990\n"
     ]
    }
   ],
   "source": [
    "import requests\n",
    "from bs4 import BeautifulSoup\n",
    "from sklearn.feature_extraction.text import CountVectorizer\n",
    "\n",
    "# grab postings from the web\n",
    "texts = []\n",
    "for i in range(0,1000,10): # cycle through 100 pages of indeed job resources\n",
    "    print i, # Show the index of the page we are on\n",
    "    # Get the html of the job listings\n",
    "    soup = BeautifulSoup(requests.get('http://www.indeed.com/jobs?l=New York, NY&q=data+scientist&start='+str(i)).text, 'html.parser')\n",
    "    # clean them up, add them to a list\n",
    "    texts += [a.text for a in soup.findAll('span', {'class':'summary'})]"
   ]
  },
  {
   "cell_type": "code",
   "execution_count": 303,
   "metadata": {
    "collapsed": false
   },
   "outputs": [
    {
     "name": "stdout",
     "output_type": "stream",
     "text": [
      "1500 job descriptions\n"
     ]
    }
   ],
   "source": [
    "print len(texts), \"job descriptions\" # 1,500 descriptions"
   ]
  },
  {
   "cell_type": "code",
   "execution_count": 304,
   "metadata": {
    "collapsed": false
   },
   "outputs": [
    {
     "data": {
      "text/plain": [
       "u'Senior Data Scientist. Integrating with external data sources and APIs to discover interesting trends (NOAA Weather Data + Credit Card Transactions =...'"
      ]
     },
     "execution_count": 304,
     "metadata": {},
     "output_type": "execute_result"
    }
   ],
   "source": [
    "texts[0]   # the first job description"
   ]
  },
  {
   "cell_type": "code",
   "execution_count": 305,
   "metadata": {
    "collapsed": false
   },
   "outputs": [],
   "source": [
    "word_counts = map_reduce_count_words(texts)\n",
    "\n",
    "# Use our map reduce function to get the top 10 used words in this corpus"
   ]
  },
  {
   "cell_type": "code",
   "execution_count": 306,
   "metadata": {
    "collapsed": false
   },
   "outputs": [
    {
     "data": {
      "text/plain": [
       "[(u'for', 399),\n",
       " (u'with', 429),\n",
       " (u'Data', 442),\n",
       " (u'a', 505),\n",
       " (u'the', 546),\n",
       " (u'of', 563),\n",
       " (u'in', 601),\n",
       " (u'to', 860),\n",
       " (u'data', 1031),\n",
       " (u'and', 1583)]"
      ]
     },
     "execution_count": 306,
     "metadata": {},
     "output_type": "execute_result"
    }
   ],
   "source": [
    "sorted(word_counts, key=lambda x:x[1])[-10:]"
   ]
  },
  {
   "cell_type": "code",
   "execution_count": 307,
   "metadata": {
    "collapsed": true
   },
   "outputs": [],
   "source": [
    "# This doesn't seem as robust as we might need\n",
    "\n",
    "# I see all of these useless words like is, in with, the, of\n",
    "# Also How do I get 2 word phrases like \"machine learning\"\n",
    "\n",
    "# This data is failing Sinan's fourth V, Value! How would I ever use this"
   ]
  },
  {
   "cell_type": "code",
   "execution_count": 308,
   "metadata": {
    "collapsed": false
   },
   "outputs": [
    {
     "data": {
      "text/plain": [
       "<1500x10836 sparse matrix of type '<type 'numpy.int64'>'\n",
       "\twith 41520 stored elements in Compressed Sparse Row format>"
      ]
     },
     "execution_count": 308,
     "metadata": {},
     "output_type": "execute_result"
    }
   ],
   "source": [
    "#############################\n",
    "##### Machine Learning ######\n",
    "#############################\n",
    "\n",
    "# A built in counter of words built in scikit-learn (a python maching learning module)\n",
    "# The best thing about big data is that if we can create a process for a smaller set, \n",
    "# It will also work for larger sets\n",
    "# So let's create a process for this smaller set\n",
    "vect = CountVectorizer(ngram_range=(1,2), stop_words='english')\n",
    "# - ngram_range: look for one and two word phrases in our job descriptions\n",
    "# - stop_words: ignore words like \"I\", \"you\" \"am\", \"and\", \"or\"\n",
    "# - min_df: When building the vocabulary ignore terms that have a document frequency \n",
    "# strictly lower than the given threshold. This value is also called cut-off in the literature.\n",
    "\n",
    "matrix = vect.fit_transform(texts)\n",
    "# fit and learn to the vocabulary in the corpus\n",
    "\n",
    "matrix"
   ]
  },
  {
   "cell_type": "code",
   "execution_count": null,
   "metadata": {
    "collapsed": true
   },
   "outputs": [],
   "source": [
    "# There are about 10,000 single and double word phrases in 1,500 job descriptions!"
   ]
  },
  {
   "cell_type": "code",
   "execution_count": 309,
   "metadata": {
    "collapsed": false
   },
   "outputs": [
    {
     "name": "stdout",
     "output_type": "stream",
     "text": [
      "data 1570\n",
      "learning 443\n",
      "machine 336\n",
      "machine learning 334\n",
      "scientist 308\n",
      "scientists 298\n",
      "data scientist 297\n",
      "analytics 294\n",
      "new 273\n",
      "sql 262\n",
      "experience 256\n",
      "trends 238\n",
      "business 186\n",
      "insights 171\n",
      "data scientists 165\n",
      "quantitative 162\n",
      "team 154\n",
      "deep 152\n",
      "looking 151\n",
      "research 151\n",
      "company 149\n",
      "techniques 143\n",
      "senior 142\n",
      "models 138\n",
      "python 137\n"
     ]
    }
   ],
   "source": [
    "# top 25 word phrases\n",
    "\n",
    "freqs = [(word, matrix.getcol(idx).sum()) for word, idx in vect.vocabulary_.items()]\n",
    "#sort from largest to smallest\n",
    "for phrase, times in sorted (freqs, key = lambda x: -x[1])[:25]:\n",
    "    print phrase, times"
   ]
  },
  {
   "cell_type": "code",
   "execution_count": 311,
   "metadata": {
    "collapsed": false
   },
   "outputs": [
    {
     "name": "stdout",
     "output_type": "stream",
     "text": [
      "machine learning 334\n",
      "data scientist 297\n",
      "data scientists 165\n",
      "new york 123\n",
      "senior data 121\n",
      "data sources 112\n",
      "scientist analytics 108\n",
      "york city 107\n",
      "motivated data 107\n",
      "data assets 107\n",
      "company looking 106\n",
      "looking talented 106\n",
      "deep learning 105\n",
      "talented motivated 105\n",
      "provide business 104\n",
      "developer help 104\n",
      "insight data 104\n",
      "analytics developer 104\n",
      "business insight 104\n",
      "help provide 104\n",
      "external data 103\n",
      "experience sql 103\n",
      "quantitative techniques 103\n",
      "state art 103\n",
      "insurance company 103\n"
     ]
    }
   ],
   "source": [
    "# What if we looked ONLY at 2 word phrases\n",
    "\n",
    "vect = CountVectorizer(ngram_range=(2,2), stop_words='english')\n",
    "matrix = vect.fit_transform(texts)\n",
    "freqs = [(word, matrix.getcol(idx).sum()) for word, idx in vect.vocabulary_.items()]\n",
    "for phrase, times in sorted (freqs, key = lambda x: -x[1])[:25]:\n",
    "    print phrase, times"
   ]
  },
  {
   "cell_type": "code",
   "execution_count": 312,
   "metadata": {
    "collapsed": false
   },
   "outputs": [
    {
     "data": {
      "text/plain": [
       "<1500x37753 sparse matrix of type '<type 'numpy.int64'>'\n",
       "\twith 94992 stored elements in Compressed Sparse Row format>"
      ]
     },
     "execution_count": 312,
     "metadata": {},
     "output_type": "execute_result"
    }
   ],
   "source": [
    "# Volume, let's see how many phrases there are if we consider up to 5 word phrases\n",
    "\n",
    "vect = CountVectorizer(ngram_range=(1,5), stop_words='english')\n",
    "# - ngram_range: look for one and two word phrases in our job descriptions\n",
    "# - stop_words: ignore words like \"I\", \"you\" \"am\", \"and\", \"or\"\n",
    "# - min_df: When building the vocabulary ignore terms that have a document frequency \n",
    "# strictly lower than the given threshold. This value is also called cut-off in the literature.\n",
    "\n",
    "matrix = vect.fit_transform(texts)\n",
    "# fit and learn to the vocabulary in the corpus\n",
    "\n",
    "matrix"
   ]
  },
  {
   "cell_type": "code",
   "execution_count": 313,
   "metadata": {
    "collapsed": true
   },
   "outputs": [],
   "source": [
    "# over 37 thousand!"
   ]
  },
  {
   "cell_type": "code",
   "execution_count": 314,
   "metadata": {
    "collapsed": false
   },
   "outputs": [
    {
     "name": "stdout",
     "output_type": "stream",
     "text": [
      "1 2 3 4 5 6 7 8 9 10 11 12 13 14 15 16 17 18 19\n"
     ]
    }
   ],
   "source": [
    "# Let's count the number of phrases there are for a variety of numbers\n",
    "\n",
    "num_phrases = []\n",
    "for i in range(1,20):\n",
    "    print i,\n",
    "    vect = CountVectorizer(ngram_range=(1,i), stop_words='english')\n",
    "    matrix = vect.fit_transform(texts)\n",
    "    num_phrases.append(matrix.shape[1])"
   ]
  },
  {
   "cell_type": "code",
   "execution_count": null,
   "metadata": {
    "collapsed": false
   },
   "outputs": [],
   "source": []
  },
  {
   "cell_type": "code",
   "execution_count": 315,
   "metadata": {
    "collapsed": false
   },
   "outputs": [
    {
     "data": {
      "text/plain": [
       "<seaborn.axisgrid.FacetGrid at 0x1101cdad0>"
      ]
     },
     "execution_count": 315,
     "metadata": {},
     "output_type": "execute_result"
    },
    {
     "data": {
      "image/png": "[encoded data removed]",
      "text/plain": [
       "<matplotlib.figure.Figure at 0x11f434810>"
      ]
     },
     "metadata": {},
     "output_type": "display_data"
    }
   ],
   "source": [
    "import pandas as pd # our data manipulation module\n",
    "df = pd.DataFrame({'phrase limit': range(1,20), 'number of phrases': num_phrases})\n",
    "import seaborn as sns # our pretty graph module\n",
    "%matplotlib inline   \n",
    "\n",
    "\n",
    "sns.lmplot(x=\"phrase limit\", y=\"number of phrases\", data=df, ci=None, fit_reg=False)"
   ]
  },
  {
   "cell_type": "code",
   "execution_count": 316,
   "metadata": {
    "collapsed": true
   },
   "outputs": [],
   "source": [
    "# Thought experiment: Why is there a dropoff?\n",
    "\n",
    "\n",
    "\n",
    "\n",
    "\n",
    "\n",
    "\n",
    "\n",
    "\n",
    "\n",
    "\n",
    "\n"
   ]
  },
  {
   "cell_type": "code",
   "execution_count": 317,
   "metadata": {
    "collapsed": false
   },
   "outputs": [
    {
     "data": {
      "text/plain": [
       "21.720666666666666"
      ]
     },
     "execution_count": 317,
     "metadata": {},
     "output_type": "execute_result"
    }
   ],
   "source": [
    "# Because on average our summary lengths aren't THAT long so at around 19, \n",
    "# some descriptions aren't producing anynew phrases\n",
    "\n",
    "\n",
    "\n",
    "num_words = [len(t.split()) for t in texts]\n",
    "average_num_words = sum(num_words) / float(len(num_words))\n",
    "\n",
    "average_num_words"
   ]
  },
  {
   "cell_type": "code",
   "execution_count": 318,
   "metadata": {
    "collapsed": false
   },
   "outputs": [],
   "source": [
    "'''\n",
    "LDA - Latent Dirichlet Allocation\n",
    "What:  Way of automatically discovering topics from sentences\n",
    "Why:   Much quicker than manually creating and identifying topic clusters\n",
    "'''\n",
    "\n",
    "import lda\n",
    "import numpy as np"
   ]
  },
  {
   "cell_type": "code",
   "execution_count": 319,
   "metadata": {
    "collapsed": false
   },
   "outputs": [
    {
     "name": "stdout",
     "output_type": "stream",
     "text": [
      "Topic 0: data, scientists, data scientists, work, team, science, project, engineers, analysis\n",
      "Topic 1: data, scientist, analytics, data scientist, business, looking, provide, company, help\n",
      "Topic 2: data, trends, senior data, scientist, sources, senior, data scientist, senior data scientist, data sources\n",
      "Topic 3: new, experience, sql, insights, quantitative, market, ability, york, new york\n",
      "Topic 4: learning, machine, machine learning, data, deep, applications, diverse, deep learning, state\n"
     ]
    }
   ],
   "source": [
    "# Instantiate an LDA model\n",
    "model = lda.LDA(n_topics=5, n_iter=100)\n",
    "model.fit(matrix) # Fit the model \n",
    "n_top_words = 10\n",
    "topic_word = model.topic_word_\n",
    "for i, topic_dist in enumerate(topic_word):\n",
    "    topic_words = np.array(vect.get_feature_names())[np.argsort(topic_dist)][:-n_top_words:-1]\n",
    "    print('Topic {}: {}'.format(i, ', '.join(topic_words)))\n"
   ]
  },
  {
   "cell_type": "code",
   "execution_count": null,
   "metadata": {
    "collapsed": false
   },
   "outputs": [],
   "source": []
  },
  {
   "cell_type": "code",
   "execution_count": null,
   "metadata": {
    "collapsed": true
   },
   "outputs": [],
   "source": []
  },
  {
   "cell_type": "code",
   "execution_count": null,
   "metadata": {
    "collapsed": true
   },
   "outputs": [],
   "source": []
  },
  {
   "cell_type": "code",
   "execution_count": null,
   "metadata": {
    "collapsed": true
   },
   "outputs": [],
   "source": []
  },
  {
   "cell_type": "code",
   "execution_count": null,
   "metadata": {
    "collapsed": true
   },
   "outputs": [],
   "source": []
  },
  {
   "cell_type": "code",
   "execution_count": null,
   "metadata": {
    "collapsed": true
   },
   "outputs": [],
   "source": []
  },
  {
   "cell_type": "code",
   "execution_count": null,
   "metadata": {
    "collapsed": true
   },
   "outputs": [],
   "source": []
  },
  {
   "cell_type": "code",
   "execution_count": null,
   "metadata": {
    "collapsed": true
   },
   "outputs": [],
   "source": [
    "# Recommending stores to shop at"
   ]
  },
  {
   "cell_type": "markdown",
   "metadata": {
    "collapsed": true
   },
   "source": [
    "# There are two general approaches to the design:\n",
    "\n",
    "## In content-based filtering, items are mapped into a feature space, and recommendations depend on item characteristics.\n",
    "\n",
    "<img src='images/content.png'>\n",
    "\n",
    "\n",
    "## In contrast, the only data under consideration in collaborative filtering are user-item ratings, and recommendations depend on user preferences.\n",
    "\n",
    "<img src='images/collab.png'>"
   ]
  },
  {
   "cell_type": "code",
   "execution_count": null,
   "metadata": {
    "collapsed": true
   },
   "outputs": [],
   "source": []
  },
  {
   "cell_type": "code",
   "execution_count": null,
   "metadata": {
    "collapsed": true
   },
   "outputs": [],
   "source": []
  },
  {
   "cell_type": "code",
   "execution_count": 131,
   "metadata": {
    "collapsed": true
   },
   "outputs": [],
   "source": []
  },
  {
   "cell_type": "code",
   "execution_count": 132,
   "metadata": {
    "collapsed": false
   },
   "outputs": [],
   "source": [
    "user_brands = pd.read_csv('data/user_brand.csv') # user store preferences"
   ]
  },
  {
   "cell_type": "code",
   "execution_count": 133,
   "metadata": {
    "collapsed": false
   },
   "outputs": [
    {
     "data": {
      "text/html": [
       "<div>\n",
       "<table border=\"1\" class=\"dataframe\">\n",
       "  <thead>\n",
       "    <tr style=\"text-align: right;\">\n",
       "      <th></th>\n",
       "      <th>ID</th>\n",
       "      <th>Store</th>\n",
       "    </tr>\n",
       "  </thead>\n",
       "  <tbody>\n",
       "    <tr>\n",
       "      <th>0</th>\n",
       "      <td>80002</td>\n",
       "      <td>Target</td>\n",
       "    </tr>\n",
       "    <tr>\n",
       "      <th>1</th>\n",
       "      <td>80002</td>\n",
       "      <td>Home Depot</td>\n",
       "    </tr>\n",
       "    <tr>\n",
       "      <th>2</th>\n",
       "      <td>80010</td>\n",
       "      <td>Levi's</td>\n",
       "    </tr>\n",
       "    <tr>\n",
       "      <th>3</th>\n",
       "      <td>80010</td>\n",
       "      <td>Puma</td>\n",
       "    </tr>\n",
       "    <tr>\n",
       "      <th>4</th>\n",
       "      <td>80010</td>\n",
       "      <td>Cuisinart</td>\n",
       "    </tr>\n",
       "  </tbody>\n",
       "</table>\n",
       "</div>"
      ],
      "text/plain": [
       "      ID       Store\n",
       "0  80002      Target\n",
       "1  80002  Home Depot\n",
       "2  80010      Levi's\n",
       "3  80010        Puma\n",
       "4  80010   Cuisinart"
      ]
     },
     "execution_count": 133,
     "metadata": {},
     "output_type": "execute_result"
    }
   ],
   "source": [
    "user_brands.head(5) # Each row is a tuple that represents a person liking a single store"
   ]
  },
  {
   "cell_type": "code",
   "execution_count": null,
   "metadata": {
    "collapsed": true
   },
   "outputs": [],
   "source": [
    "# Note this list will have duplicates if a person likes multiple stores"
   ]
  },
  {
   "cell_type": "code",
   "execution_count": 134,
   "metadata": {
    "collapsed": false
   },
   "outputs": [
    {
     "data": {
      "text/plain": [
       "Target             1866\n",
       "Old Navy           1200\n",
       "Home Depot         1186\n",
       "Kohl's             1157\n",
       "Banana Republic     932\n",
       "Name: Store, dtype: int64"
      ]
     },
     "execution_count": 134,
     "metadata": {},
     "output_type": "execute_result"
    }
   ],
   "source": [
    "user_brands.Store.value_counts().head() # the top loved stores, do you agree?"
   ]
  },
  {
   "cell_type": "code",
   "execution_count": 267,
   "metadata": {
    "collapsed": true
   },
   "outputs": [],
   "source": [
    "# This method takes in a person's unique ID and returns the brands they like\n",
    "\n",
    "def brandsfor(person_id):\n",
    "    return list(user_brands[user_brands.ID==person_id]['Store'])"
   ]
  },
  {
   "cell_type": "code",
   "execution_count": 268,
   "metadata": {
    "collapsed": false
   },
   "outputs": [
    {
     "data": {
      "text/plain": [
       "[\"Levi's\",\n",
       " 'Puma',\n",
       " 'Cuisinart',\n",
       " 'Converse',\n",
       " 'DKNY',\n",
       " 'Express',\n",
       " \"Kohl's\",\n",
       " 'Old Navy',\n",
       " 'Container Store',\n",
       " 'Nordstrom']"
      ]
     },
     "execution_count": 268,
     "metadata": {},
     "output_type": "execute_result"
    }
   ],
   "source": [
    "brandsfor(80010) # Damn, slow down and stop shopping so much"
   ]
  },
  {
   "cell_type": "markdown",
   "metadata": {},
   "source": [
    "<img src='images/jaccard.png'>\n"
   ]
  },
  {
   "cell_type": "code",
   "execution_count": 273,
   "metadata": {
    "collapsed": false
   },
   "outputs": [],
   "source": [
    "# Using the Jaccard Similarty of sets, we can quantify how close people are as shoppers\n",
    "\n",
    "def person_similarity(first, second):\n",
    "    first = set(first)\n",
    "    second = set(second)\n",
    "    return float(len(first & second)) / len(first | second)"
   ]
  },
  {
   "cell_type": "code",
   "execution_count": 274,
   "metadata": {
    "collapsed": false
   },
   "outputs": [
    {
     "data": {
      "text/plain": [
       "0.043478260869565216"
      ]
     },
     "execution_count": 274,
     "metadata": {},
     "output_type": "execute_result"
    }
   ],
   "source": [
    "person_similarity(brandsfor(80010), brandsfor(80011))\n",
    "# The jaccard similarity is bounded by 0 and 1\n",
    "# So the closer to 0 the more DISsimilar\n",
    "# The closer to 1 the more SIMilar"
   ]
  },
  {
   "cell_type": "code",
   "execution_count": 330,
   "metadata": {
    "collapsed": true
   },
   "outputs": [],
   "source": [
    "# Let's try to recommend a brand to this person\n",
    "\n",
    "new_user = ['Target', 'Banana Republic', 'H&M']"
   ]
  },
  {
   "cell_type": "code",
   "execution_count": 331,
   "metadata": {
    "collapsed": false
   },
   "outputs": [],
   "source": [
    "# Let's get a list of all of the unique users\n",
    "all_user_ids = user_brands['ID'].unique()"
   ]
  },
  {
   "cell_type": "code",
   "execution_count": 332,
   "metadata": {
    "collapsed": false
   },
   "outputs": [],
   "source": [
    "# Create a list of similarities of our new_user to each person in that list\n",
    "similar_users = zip(all_user_ids, map(lambda x:person_similarity(brandsfor(x), new_user), all_user_ids))"
   ]
  },
  {
   "cell_type": "code",
   "execution_count": 333,
   "metadata": {
    "collapsed": false
   },
   "outputs": [
    {
     "data": {
      "text/plain": [
       "[(80002, 0.25),\n",
       " (80010, 0.0),\n",
       " (80011, 0.13333333333333333),\n",
       " (80015, 0.4),\n",
       " (80020, 0.0)]"
      ]
     },
     "execution_count": 333,
     "metadata": {},
     "output_type": "execute_result"
    }
   ],
   "source": [
    "similar_users[:5] # Here are five people and their similarty to the new_user"
   ]
  },
  {
   "cell_type": "code",
   "execution_count": 334,
   "metadata": {
    "collapsed": true
   },
   "outputs": [],
   "source": [
    "num_similar_users = 10 # Let's look at the closest 10 people\n",
    "most_similar_users = sorted(similar_users, key=lambda x:x[1], reverse=True)[:num_similar_users]"
   ]
  },
  {
   "cell_type": "code",
   "execution_count": 335,
   "metadata": {
    "collapsed": false
   },
   "outputs": [
    {
     "data": {
      "text/plain": [
       "[(86065, 0.6666666666666666),\n",
       " (80185, 0.5),\n",
       " (81012, 0.5),\n",
       " (82716, 0.5),\n",
       " (84720, 0.5),\n",
       " (90787, 0.5),\n",
       " (80015, 0.4),\n",
       " (81802, 0.4),\n",
       " (82452, 0.4),\n",
       " (82602, 0.4)]"
      ]
     },
     "execution_count": 335,
     "metadata": {},
     "output_type": "execute_result"
    }
   ],
   "source": [
    "most_similar_users"
   ]
  },
  {
   "cell_type": "code",
   "execution_count": 336,
   "metadata": {
    "collapsed": false
   },
   "outputs": [],
   "source": [
    "# Let's grab the brands that the 5 most similar people like\n",
    "most_similar_brands = [brandsfor(person_id) for person_id, similarity_score in most_similar_users]"
   ]
  },
  {
   "cell_type": "code",
   "execution_count": 337,
   "metadata": {
    "collapsed": false
   },
   "outputs": [
    {
     "data": {
      "text/plain": [
       "[['Banana Republic', 'Target'],\n",
       " ['Banana Republic', 'Target', 'Shoebuy'],\n",
       " ['Banana Republic', 'Old Navy', 'Target'],\n",
       " ['Banana Republic', 'Target', 'Nordstrom'],\n",
       " ['Banana Republic', 'Gap', 'Target'],\n",
       " ['Banana Republic', 'Gap', 'Target'],\n",
       " ['Banana Republic', 'Gap', 'Target', 'Home Depot'],\n",
       " ['Banana Republic', 'Express', \"Kohl's\", 'Target'],\n",
       " ['Banana Republic', 'Kate Spade', \"Kohl's\", 'Target'],\n",
       " ['Banana Republic', '6pm.com', 'Target', 'Nordstrom']]"
      ]
     },
     "execution_count": 337,
     "metadata": {},
     "output_type": "execute_result"
    }
   ],
   "source": [
    "most_similar_brands"
   ]
  },
  {
   "cell_type": "code",
   "execution_count": 338,
   "metadata": {
    "collapsed": true
   },
   "outputs": [],
   "source": [
    "# Put them in one \"giant\" list\n",
    "most_similar_brands = reduce(lambda x, y: x+y, most_similar_brands)"
   ]
  },
  {
   "cell_type": "code",
   "execution_count": 339,
   "metadata": {
    "collapsed": false
   },
   "outputs": [
    {
     "data": {
      "text/plain": [
       "['Banana Republic',\n",
       " 'Target',\n",
       " 'Banana Republic',\n",
       " 'Target',\n",
       " 'Shoebuy',\n",
       " 'Banana Republic',\n",
       " 'Old Navy',\n",
       " 'Target',\n",
       " 'Banana Republic',\n",
       " 'Target',\n",
       " 'Nordstrom',\n",
       " 'Banana Republic',\n",
       " 'Gap',\n",
       " 'Target',\n",
       " 'Banana Republic',\n",
       " 'Gap',\n",
       " 'Target',\n",
       " 'Banana Republic',\n",
       " 'Gap',\n",
       " 'Target',\n",
       " 'Home Depot',\n",
       " 'Banana Republic',\n",
       " 'Express',\n",
       " \"Kohl's\",\n",
       " 'Target',\n",
       " 'Banana Republic',\n",
       " 'Kate Spade',\n",
       " \"Kohl's\",\n",
       " 'Target',\n",
       " 'Banana Republic',\n",
       " '6pm.com',\n",
       " 'Target',\n",
       " 'Nordstrom']"
      ]
     },
     "execution_count": 339,
     "metadata": {},
     "output_type": "execute_result"
    }
   ],
   "source": [
    "most_similar_brands # so many duplicates"
   ]
  },
  {
   "cell_type": "code",
   "execution_count": 340,
   "metadata": {
    "collapsed": false
   },
   "outputs": [],
   "source": [
    "from collections import Counter # Let's count them up!\n",
    "# The final scores\n",
    "scores = [(brand, score) for brand, score in Counter(most_similar_brands).iteritems() if brand not in new_user]"
   ]
  },
  {
   "cell_type": "code",
   "execution_count": 341,
   "metadata": {
    "collapsed": false
   },
   "outputs": [
    {
     "data": {
      "text/plain": [
       "[('Express', 1),\n",
       " ('Shoebuy', 1),\n",
       " ('Home Depot', 1),\n",
       " ('Gap', 3),\n",
       " ('Old Navy', 1),\n",
       " ('6pm.com', 1),\n",
       " ('Kate Spade', 1),\n",
       " (\"Kohl's\", 2),\n",
       " ('Nordstrom', 2)]"
      ]
     },
     "execution_count": 341,
     "metadata": {},
     "output_type": "execute_result"
    }
   ],
   "source": [
    "scores # a list of brands and a percentage score of how much I should recommend these brands!"
   ]
  },
  {
   "cell_type": "code",
   "execution_count": 342,
   "metadata": {
    "collapsed": true
   },
   "outputs": [],
   "source": [
    "# Let's normalize them so that 1s and 2s have meaning by dividing each number by the \n",
    "# number of people we looked at, 5"
   ]
  },
  {
   "cell_type": "code",
   "execution_count": 343,
   "metadata": {
    "collapsed": false
   },
   "outputs": [
    {
     "name": "stdout",
     "output_type": "stream",
     "text": [
      "Express 10%\n",
      "Shoebuy 10%\n",
      "Home Depot 10%\n",
      "Gap 30%\n",
      "Old Navy 10%\n",
      "6pm.com 10%\n",
      "Kate Spade 10%\n",
      "Kohl's 20%\n",
      "Nordstrom 20%\n"
     ]
    }
   ],
   "source": [
    "for brand, score in scores:\n",
    "    print brand, str(int((score / float(num_similar_users)) * 100))+'%'"
   ]
  },
  {
   "cell_type": "code",
   "execution_count": 294,
   "metadata": {
    "collapsed": true
   },
   "outputs": [],
   "source": [
    "# GO TO GAP OR KOHL'S OR NORDSTROM"
   ]
  },
  {
   "cell_type": "code",
   "execution_count": 344,
   "metadata": {
    "collapsed": true
   },
   "outputs": [],
   "source": [
    "# new_user = ['Target', 'Banana Republic', 'H&M'] # Do you agree?"
   ]
  },
  {
   "cell_type": "code",
   "execution_count": 345,
   "metadata": {
    "collapsed": true
   },
   "outputs": [],
   "source": [
    "# Collaborative Based Recommendations rely on previous user data, can you see any potential faults here?"
   ]
  },
  {
   "cell_type": "code",
   "execution_count": null,
   "metadata": {
    "collapsed": true
   },
   "outputs": [],
   "source": []
  },
  {
   "cell_type": "code",
   "execution_count": null,
   "metadata": {
    "collapsed": true
   },
   "outputs": [],
   "source": []
  },
  {
   "cell_type": "code",
   "execution_count": null,
   "metadata": {
    "collapsed": true
   },
   "outputs": [],
   "source": []
  },
  {
   "cell_type": "code",
   "execution_count": null,
   "metadata": {
    "collapsed": true
   },
   "outputs": [],
   "source": []
  },
  {
   "cell_type": "code",
   "execution_count": null,
   "metadata": {
    "collapsed": true
   },
   "outputs": [],
   "source": []
  },
  {
   "cell_type": "code",
   "execution_count": null,
   "metadata": {
    "collapsed": true
   },
   "outputs": [],
   "source": [
    "# Cold Start Problem\n",
    "    # When we need initial data to even begin recommending\n",
    "    \n",
    "# We rely on what other people think and have done\n",
    "    # whereas content based relies on the actual characteristics of the brandslopkl"
   ]
  },
  {
   "cell_type": "code",
   "execution_count": null,
   "metadata": {
    "collapsed": true
   },
   "outputs": [],
   "source": []
  },
  {
   "cell_type": "code",
   "execution_count": null,
   "metadata": {
    "collapsed": true
   },
   "outputs": [],
   "source": []
  }
 ],
 "metadata": {
  "kernelspec": {
   "display_name": "Python [sfdat26-env]",
   "language": "python",
   "name": "Python [sfdat26-env]"
  },
  "language_info": {
   "codemirror_mode": {
    "name": "ipython",
    "version": 2
   },
   "file_extension": ".py",
   "mimetype": "text/x-python",
   "name": "python",
   "nbconvert_exporter": "python",
   "pygments_lexer": "ipython2",
   "version": "2.7.12"
  }
 },
 "nbformat": 4,
 "nbformat_minor": 0
}
